{
 "cells": [
  {
   "cell_type": "code",
   "execution_count": 18,
   "metadata": {},
   "outputs": [],
   "source": [
    "import streamlit as st\n",
    "import requests\n",
    "import pandas as pd\n",
    "import plotly.express as px\n",
    "\n",
    "CO2_yearly_path = \"../CO2_Emission_Indicator/data/carbon_dioxide/CO2_simplified.xlsx\"\n",
    "df = pd.read_excel(CO2_yearly_path)\n",
    "\n",
    "CO2_region_path = \"../CO2_Emission_Indicator/data/carbon_dioxide/CO2_region.xlsx\"\n",
    "df_region = pd.read_excel(CO2_region_path)"
   ]
  },
  {
   "cell_type": "code",
   "execution_count": 12,
   "metadata": {},
   "outputs": [
    {
     "data": {
      "text/html": [
       "<div>\n",
       "<style scoped>\n",
       "    .dataframe tbody tr th:only-of-type {\n",
       "        vertical-align: middle;\n",
       "    }\n",
       "\n",
       "    .dataframe tbody tr th {\n",
       "        vertical-align: top;\n",
       "    }\n",
       "\n",
       "    .dataframe thead th {\n",
       "        text-align: right;\n",
       "    }\n",
       "</style>\n",
       "<table border=\"1\" class=\"dataframe\">\n",
       "  <thead>\n",
       "    <tr style=\"text-align: right;\">\n",
       "      <th></th>\n",
       "      <th>country</th>\n",
       "      <th>year</th>\n",
       "      <th>CO2</th>\n",
       "    </tr>\n",
       "  </thead>\n",
       "  <tbody>\n",
       "    <tr>\n",
       "      <th>0</th>\n",
       "      <td>ABW</td>\n",
       "      <td>1970</td>\n",
       "      <td>95.065424</td>\n",
       "    </tr>\n",
       "    <tr>\n",
       "      <th>1</th>\n",
       "      <td>ABW</td>\n",
       "      <td>1971</td>\n",
       "      <td>94.503709</td>\n",
       "    </tr>\n",
       "    <tr>\n",
       "      <th>2</th>\n",
       "      <td>ABW</td>\n",
       "      <td>1972</td>\n",
       "      <td>105.847814</td>\n",
       "    </tr>\n",
       "    <tr>\n",
       "      <th>3</th>\n",
       "      <td>ABW</td>\n",
       "      <td>1973</td>\n",
       "      <td>109.863856</td>\n",
       "    </tr>\n",
       "    <tr>\n",
       "      <th>4</th>\n",
       "      <td>ABW</td>\n",
       "      <td>1974</td>\n",
       "      <td>99.977179</td>\n",
       "    </tr>\n",
       "  </tbody>\n",
       "</table>\n",
       "</div>"
      ],
      "text/plain": [
       "  country  year         CO2\n",
       "0     ABW  1970   95.065424\n",
       "1     ABW  1971   94.503709\n",
       "2     ABW  1972  105.847814\n",
       "3     ABW  1973  109.863856\n",
       "4     ABW  1974   99.977179"
      ]
     },
     "execution_count": 12,
     "metadata": {},
     "output_type": "execute_result"
    }
   ],
   "source": [
    "df.head()"
   ]
  },
  {
   "cell_type": "code",
   "execution_count": 19,
   "metadata": {},
   "outputs": [
    {
     "data": {
      "application/vnd.plotly.v1+json": {
       "config": {
        "plotlyServerURL": "https://plot.ly"
       },
       "data": [
        {
         "hovertemplate": "year=%{x}<br>CO2=%{y}<extra></extra>",
         "legendgroup": "",
         "line": {
          "color": "#000001",
          "dash": "solid"
         },
         "marker": {
          "symbol": "circle"
         },
         "mode": "lines",
         "name": "",
         "orientation": "v",
         "showlegend": false,
         "type": "scatter",
         "x": [
          1970,
          1971,
          1972,
          1973,
          1974,
          1975,
          1976,
          1977,
          1978,
          1979,
          1980,
          1981,
          1982,
          1983,
          1984,
          1985,
          1986,
          1987,
          1988,
          1989,
          1990,
          1991,
          1992,
          1993,
          1994,
          1995,
          1996,
          1997,
          1998,
          1999,
          2000,
          2001,
          2002,
          2003,
          2004,
          2005,
          2006,
          2007,
          2008,
          2009,
          2010,
          2011,
          2012,
          2013,
          2014,
          2015,
          2016,
          2017,
          2018,
          2019,
          2020,
          2021
         ],
         "xaxis": "x",
         "y": [
          95.065423531521,
          94.503708662314,
          105.84781380786,
          109.86385598606,
          99.977179446001,
          114.65053682466,
          105.09861043699,
          113.48571156825,
          115.61013577501,
          109.36104934924,
          110.20265501345,
          111.93563531383,
          102.83109678785,
          104.99414867233,
          121.18568865581,
          118.87113374132,
          117.59758589197,
          120.9982658893,
          428.31098816547,
          522.59635110266,
          531.67358903007,
          626.16991077127,
          726.34641142444,
          697.67150722447,
          763.67243630523,
          820.73046662055,
          550.82343049763,
          838.03621612435,
          839.62348402823,
          886.53697748361,
          950.98809412196,
          977.16641403739,
          996.5117897626,
          1288.4710864731,
          1338.6388894093,
          1377.2741297889,
          1339.1320007054,
          1369.6566882463,
          1288.1396421681,
          1387.8990584836,
          1345.9689761818,
          1286.3692789707,
          1637.8228307826,
          1605.6897311709,
          1633.5844199488,
          1626.2340496857,
          1597.3982550147,
          1335.7928817278,
          1366.6145737088,
          1404.7051234027,
          1166.0184092372,
          1295.8188035375
         ],
         "yaxis": "y"
        }
       ],
       "layout": {
        "legend": {
         "tracegroupgap": 0
        },
        "margin": {
         "t": 60
        },
        "template": {
         "data": {
          "candlestick": [
           {
            "decreasing": {
             "line": {
              "color": "#000033"
             }
            },
            "increasing": {
             "line": {
              "color": "#000032"
             }
            },
            "type": "candlestick"
           }
          ],
          "contour": [
           {
            "colorscale": [
             [
              0,
              "#000011"
             ],
             [
              0.1111111111111111,
              "#000012"
             ],
             [
              0.2222222222222222,
              "#000013"
             ],
             [
              0.3333333333333333,
              "#000014"
             ],
             [
              0.4444444444444444,
              "#000015"
             ],
             [
              0.5555555555555556,
              "#000016"
             ],
             [
              0.6666666666666666,
              "#000017"
             ],
             [
              0.7777777777777778,
              "#000018"
             ],
             [
              0.8888888888888888,
              "#000019"
             ],
             [
              1,
              "#000020"
             ]
            ],
            "type": "contour"
           }
          ],
          "contourcarpet": [
           {
            "colorscale": [
             [
              0,
              "#000011"
             ],
             [
              0.1111111111111111,
              "#000012"
             ],
             [
              0.2222222222222222,
              "#000013"
             ],
             [
              0.3333333333333333,
              "#000014"
             ],
             [
              0.4444444444444444,
              "#000015"
             ],
             [
              0.5555555555555556,
              "#000016"
             ],
             [
              0.6666666666666666,
              "#000017"
             ],
             [
              0.7777777777777778,
              "#000018"
             ],
             [
              0.8888888888888888,
              "#000019"
             ],
             [
              1,
              "#000020"
             ]
            ],
            "type": "contourcarpet"
           }
          ],
          "heatmap": [
           {
            "colorscale": [
             [
              0,
              "#000011"
             ],
             [
              0.1111111111111111,
              "#000012"
             ],
             [
              0.2222222222222222,
              "#000013"
             ],
             [
              0.3333333333333333,
              "#000014"
             ],
             [
              0.4444444444444444,
              "#000015"
             ],
             [
              0.5555555555555556,
              "#000016"
             ],
             [
              0.6666666666666666,
              "#000017"
             ],
             [
              0.7777777777777778,
              "#000018"
             ],
             [
              0.8888888888888888,
              "#000019"
             ],
             [
              1,
              "#000020"
             ]
            ],
            "type": "heatmap"
           }
          ],
          "histogram2d": [
           {
            "colorscale": [
             [
              0,
              "#000011"
             ],
             [
              0.1111111111111111,
              "#000012"
             ],
             [
              0.2222222222222222,
              "#000013"
             ],
             [
              0.3333333333333333,
              "#000014"
             ],
             [
              0.4444444444444444,
              "#000015"
             ],
             [
              0.5555555555555556,
              "#000016"
             ],
             [
              0.6666666666666666,
              "#000017"
             ],
             [
              0.7777777777777778,
              "#000018"
             ],
             [
              0.8888888888888888,
              "#000019"
             ],
             [
              1,
              "#000020"
             ]
            ],
            "type": "histogram2d"
           }
          ],
          "icicle": [
           {
            "textfont": {
             "color": "white"
            },
            "type": "icicle"
           }
          ],
          "sankey": [
           {
            "textfont": {
             "color": "#000036"
            },
            "type": "sankey"
           }
          ],
          "scatter": [
           {
            "marker": {
             "line": {
              "width": 0
             }
            },
            "type": "scatter"
           }
          ],
          "table": [
           {
            "cells": {
             "fill": {
              "color": "#000038"
             },
             "font": {
              "color": "#000037"
             },
             "line": {
              "color": "#000039"
             }
            },
            "header": {
             "fill": {
              "color": "#000040"
             },
             "font": {
              "color": "#000036"
             },
             "line": {
              "color": "#000039"
             }
            },
            "type": "table"
           }
          ],
          "waterfall": [
           {
            "connector": {
             "line": {
              "color": "#000036",
              "width": 2
             }
            },
            "decreasing": {
             "marker": {
              "color": "#000033"
             }
            },
            "increasing": {
             "marker": {
              "color": "#000032"
             }
            },
            "totals": {
             "marker": {
              "color": "#000034"
             }
            },
            "type": "waterfall"
           }
          ]
         },
         "layout": {
          "coloraxis": {
           "colorscale": [
            [
             0,
             "#000011"
            ],
            [
             0.1111111111111111,
             "#000012"
            ],
            [
             0.2222222222222222,
             "#000013"
            ],
            [
             0.3333333333333333,
             "#000014"
            ],
            [
             0.4444444444444444,
             "#000015"
            ],
            [
             0.5555555555555556,
             "#000016"
            ],
            [
             0.6666666666666666,
             "#000017"
            ],
            [
             0.7777777777777778,
             "#000018"
            ],
            [
             0.8888888888888888,
             "#000019"
            ],
            [
             1,
             "#000020"
            ]
           ]
          },
          "colorscale": {
           "diverging": [
            [
             0,
             "#000021"
            ],
            [
             0.1,
             "#000022"
            ],
            [
             0.2,
             "#000023"
            ],
            [
             0.3,
             "#000024"
            ],
            [
             0.4,
             "#000025"
            ],
            [
             0.5,
             "#000026"
            ],
            [
             0.6,
             "#000027"
            ],
            [
             0.7,
             "#000028"
            ],
            [
             0.8,
             "#000029"
            ],
            [
             0.9,
             "#000030"
            ],
            [
             1,
             "#000031"
            ]
           ],
           "sequential": [
            [
             0,
             "#000011"
            ],
            [
             0.1111111111111111,
             "#000012"
            ],
            [
             0.2222222222222222,
             "#000013"
            ],
            [
             0.3333333333333333,
             "#000014"
            ],
            [
             0.4444444444444444,
             "#000015"
            ],
            [
             0.5555555555555556,
             "#000016"
            ],
            [
             0.6666666666666666,
             "#000017"
            ],
            [
             0.7777777777777778,
             "#000018"
            ],
            [
             0.8888888888888888,
             "#000019"
            ],
            [
             1,
             "#000020"
            ]
           ],
           "sequentialminus": [
            [
             0,
             "#000011"
            ],
            [
             0.1111111111111111,
             "#000012"
            ],
            [
             0.2222222222222222,
             "#000013"
            ],
            [
             0.3333333333333333,
             "#000014"
            ],
            [
             0.4444444444444444,
             "#000015"
            ],
            [
             0.5555555555555556,
             "#000016"
            ],
            [
             0.6666666666666666,
             "#000017"
            ],
            [
             0.7777777777777778,
             "#000018"
            ],
            [
             0.8888888888888888,
             "#000019"
            ],
            [
             1,
             "#000020"
            ]
           ]
          },
          "colorway": [
           "#000001",
           "#000002",
           "#000003",
           "#000004",
           "#000005",
           "#000006",
           "#000007",
           "#000008",
           "#000009",
           "#000010"
          ]
         }
        },
        "xaxis": {
         "anchor": "y",
         "domain": [
          0,
          1
         ],
         "title": {
          "text": "year"
         }
        },
        "yaxis": {
         "anchor": "x",
         "domain": [
          0,
          1
         ],
         "title": {
          "text": "CO2"
         }
        }
       }
      }
     },
     "metadata": {},
     "output_type": "display_data"
    }
   ],
   "source": [
    "px.line(df[df['country'] == 'ABW'], x=\"year\", y=\"CO2\")"
   ]
  },
  {
   "cell_type": "code",
   "execution_count": null,
   "metadata": {},
   "outputs": [],
   "source": []
  },
  {
   "cell_type": "code",
   "execution_count": 17,
   "metadata": {},
   "outputs": [
    {
     "data": {
      "text/html": [
       "<div>\n",
       "<style scoped>\n",
       "    .dataframe tbody tr th:only-of-type {\n",
       "        vertical-align: middle;\n",
       "    }\n",
       "\n",
       "    .dataframe tbody tr th {\n",
       "        vertical-align: top;\n",
       "    }\n",
       "\n",
       "    .dataframe thead th {\n",
       "        text-align: right;\n",
       "    }\n",
       "</style>\n",
       "<table border=\"1\" class=\"dataframe\">\n",
       "  <thead>\n",
       "    <tr style=\"text-align: right;\">\n",
       "      <th></th>\n",
       "      <th>country</th>\n",
       "      <th>year</th>\n",
       "      <th>CO2</th>\n",
       "    </tr>\n",
       "  </thead>\n",
       "  <tbody>\n",
       "    <tr>\n",
       "      <th>0</th>\n",
       "      <td>ABW</td>\n",
       "      <td>1970</td>\n",
       "      <td>95.065424</td>\n",
       "    </tr>\n",
       "    <tr>\n",
       "      <th>1</th>\n",
       "      <td>ABW</td>\n",
       "      <td>1971</td>\n",
       "      <td>94.503709</td>\n",
       "    </tr>\n",
       "    <tr>\n",
       "      <th>2</th>\n",
       "      <td>ABW</td>\n",
       "      <td>1972</td>\n",
       "      <td>105.847814</td>\n",
       "    </tr>\n",
       "    <tr>\n",
       "      <th>3</th>\n",
       "      <td>ABW</td>\n",
       "      <td>1973</td>\n",
       "      <td>109.863856</td>\n",
       "    </tr>\n",
       "    <tr>\n",
       "      <th>4</th>\n",
       "      <td>ABW</td>\n",
       "      <td>1974</td>\n",
       "      <td>99.977179</td>\n",
       "    </tr>\n",
       "    <tr>\n",
       "      <th>5</th>\n",
       "      <td>ABW</td>\n",
       "      <td>1975</td>\n",
       "      <td>114.650537</td>\n",
       "    </tr>\n",
       "    <tr>\n",
       "      <th>6</th>\n",
       "      <td>ABW</td>\n",
       "      <td>1976</td>\n",
       "      <td>105.098610</td>\n",
       "    </tr>\n",
       "    <tr>\n",
       "      <th>7</th>\n",
       "      <td>ABW</td>\n",
       "      <td>1977</td>\n",
       "      <td>113.485712</td>\n",
       "    </tr>\n",
       "    <tr>\n",
       "      <th>8</th>\n",
       "      <td>ABW</td>\n",
       "      <td>1978</td>\n",
       "      <td>115.610136</td>\n",
       "    </tr>\n",
       "    <tr>\n",
       "      <th>9</th>\n",
       "      <td>ABW</td>\n",
       "      <td>1979</td>\n",
       "      <td>109.361049</td>\n",
       "    </tr>\n",
       "    <tr>\n",
       "      <th>10</th>\n",
       "      <td>ABW</td>\n",
       "      <td>1980</td>\n",
       "      <td>110.202655</td>\n",
       "    </tr>\n",
       "    <tr>\n",
       "      <th>11</th>\n",
       "      <td>ABW</td>\n",
       "      <td>1981</td>\n",
       "      <td>111.935635</td>\n",
       "    </tr>\n",
       "    <tr>\n",
       "      <th>12</th>\n",
       "      <td>ABW</td>\n",
       "      <td>1982</td>\n",
       "      <td>102.831097</td>\n",
       "    </tr>\n",
       "    <tr>\n",
       "      <th>13</th>\n",
       "      <td>ABW</td>\n",
       "      <td>1983</td>\n",
       "      <td>104.994149</td>\n",
       "    </tr>\n",
       "    <tr>\n",
       "      <th>14</th>\n",
       "      <td>ABW</td>\n",
       "      <td>1984</td>\n",
       "      <td>121.185689</td>\n",
       "    </tr>\n",
       "    <tr>\n",
       "      <th>15</th>\n",
       "      <td>ABW</td>\n",
       "      <td>1985</td>\n",
       "      <td>118.871134</td>\n",
       "    </tr>\n",
       "    <tr>\n",
       "      <th>16</th>\n",
       "      <td>ABW</td>\n",
       "      <td>1986</td>\n",
       "      <td>117.597586</td>\n",
       "    </tr>\n",
       "    <tr>\n",
       "      <th>17</th>\n",
       "      <td>ABW</td>\n",
       "      <td>1987</td>\n",
       "      <td>120.998266</td>\n",
       "    </tr>\n",
       "    <tr>\n",
       "      <th>18</th>\n",
       "      <td>ABW</td>\n",
       "      <td>1988</td>\n",
       "      <td>428.310988</td>\n",
       "    </tr>\n",
       "    <tr>\n",
       "      <th>19</th>\n",
       "      <td>ABW</td>\n",
       "      <td>1989</td>\n",
       "      <td>522.596351</td>\n",
       "    </tr>\n",
       "    <tr>\n",
       "      <th>20</th>\n",
       "      <td>ABW</td>\n",
       "      <td>1990</td>\n",
       "      <td>531.673589</td>\n",
       "    </tr>\n",
       "    <tr>\n",
       "      <th>21</th>\n",
       "      <td>ABW</td>\n",
       "      <td>1991</td>\n",
       "      <td>626.169911</td>\n",
       "    </tr>\n",
       "    <tr>\n",
       "      <th>22</th>\n",
       "      <td>ABW</td>\n",
       "      <td>1992</td>\n",
       "      <td>726.346411</td>\n",
       "    </tr>\n",
       "    <tr>\n",
       "      <th>23</th>\n",
       "      <td>ABW</td>\n",
       "      <td>1993</td>\n",
       "      <td>697.671507</td>\n",
       "    </tr>\n",
       "    <tr>\n",
       "      <th>24</th>\n",
       "      <td>ABW</td>\n",
       "      <td>1994</td>\n",
       "      <td>763.672436</td>\n",
       "    </tr>\n",
       "    <tr>\n",
       "      <th>25</th>\n",
       "      <td>ABW</td>\n",
       "      <td>1995</td>\n",
       "      <td>820.730467</td>\n",
       "    </tr>\n",
       "    <tr>\n",
       "      <th>26</th>\n",
       "      <td>ABW</td>\n",
       "      <td>1996</td>\n",
       "      <td>550.823430</td>\n",
       "    </tr>\n",
       "    <tr>\n",
       "      <th>27</th>\n",
       "      <td>ABW</td>\n",
       "      <td>1997</td>\n",
       "      <td>838.036216</td>\n",
       "    </tr>\n",
       "    <tr>\n",
       "      <th>28</th>\n",
       "      <td>ABW</td>\n",
       "      <td>1998</td>\n",
       "      <td>839.623484</td>\n",
       "    </tr>\n",
       "    <tr>\n",
       "      <th>29</th>\n",
       "      <td>ABW</td>\n",
       "      <td>1999</td>\n",
       "      <td>886.536977</td>\n",
       "    </tr>\n",
       "    <tr>\n",
       "      <th>30</th>\n",
       "      <td>ABW</td>\n",
       "      <td>2000</td>\n",
       "      <td>950.988094</td>\n",
       "    </tr>\n",
       "    <tr>\n",
       "      <th>31</th>\n",
       "      <td>ABW</td>\n",
       "      <td>2001</td>\n",
       "      <td>977.166414</td>\n",
       "    </tr>\n",
       "    <tr>\n",
       "      <th>32</th>\n",
       "      <td>ABW</td>\n",
       "      <td>2002</td>\n",
       "      <td>996.511790</td>\n",
       "    </tr>\n",
       "    <tr>\n",
       "      <th>33</th>\n",
       "      <td>ABW</td>\n",
       "      <td>2003</td>\n",
       "      <td>1288.471086</td>\n",
       "    </tr>\n",
       "    <tr>\n",
       "      <th>34</th>\n",
       "      <td>ABW</td>\n",
       "      <td>2004</td>\n",
       "      <td>1338.638889</td>\n",
       "    </tr>\n",
       "    <tr>\n",
       "      <th>35</th>\n",
       "      <td>ABW</td>\n",
       "      <td>2005</td>\n",
       "      <td>1377.274130</td>\n",
       "    </tr>\n",
       "    <tr>\n",
       "      <th>36</th>\n",
       "      <td>ABW</td>\n",
       "      <td>2006</td>\n",
       "      <td>1339.132001</td>\n",
       "    </tr>\n",
       "    <tr>\n",
       "      <th>37</th>\n",
       "      <td>ABW</td>\n",
       "      <td>2007</td>\n",
       "      <td>1369.656688</td>\n",
       "    </tr>\n",
       "    <tr>\n",
       "      <th>38</th>\n",
       "      <td>ABW</td>\n",
       "      <td>2008</td>\n",
       "      <td>1288.139642</td>\n",
       "    </tr>\n",
       "    <tr>\n",
       "      <th>39</th>\n",
       "      <td>ABW</td>\n",
       "      <td>2009</td>\n",
       "      <td>1387.899058</td>\n",
       "    </tr>\n",
       "    <tr>\n",
       "      <th>40</th>\n",
       "      <td>ABW</td>\n",
       "      <td>2010</td>\n",
       "      <td>1345.968976</td>\n",
       "    </tr>\n",
       "    <tr>\n",
       "      <th>41</th>\n",
       "      <td>ABW</td>\n",
       "      <td>2011</td>\n",
       "      <td>1286.369279</td>\n",
       "    </tr>\n",
       "    <tr>\n",
       "      <th>42</th>\n",
       "      <td>ABW</td>\n",
       "      <td>2012</td>\n",
       "      <td>1637.822831</td>\n",
       "    </tr>\n",
       "    <tr>\n",
       "      <th>43</th>\n",
       "      <td>ABW</td>\n",
       "      <td>2013</td>\n",
       "      <td>1605.689731</td>\n",
       "    </tr>\n",
       "    <tr>\n",
       "      <th>44</th>\n",
       "      <td>ABW</td>\n",
       "      <td>2014</td>\n",
       "      <td>1633.584420</td>\n",
       "    </tr>\n",
       "    <tr>\n",
       "      <th>45</th>\n",
       "      <td>ABW</td>\n",
       "      <td>2015</td>\n",
       "      <td>1626.234050</td>\n",
       "    </tr>\n",
       "    <tr>\n",
       "      <th>46</th>\n",
       "      <td>ABW</td>\n",
       "      <td>2016</td>\n",
       "      <td>1597.398255</td>\n",
       "    </tr>\n",
       "    <tr>\n",
       "      <th>47</th>\n",
       "      <td>ABW</td>\n",
       "      <td>2017</td>\n",
       "      <td>1335.792882</td>\n",
       "    </tr>\n",
       "    <tr>\n",
       "      <th>48</th>\n",
       "      <td>ABW</td>\n",
       "      <td>2018</td>\n",
       "      <td>1366.614574</td>\n",
       "    </tr>\n",
       "    <tr>\n",
       "      <th>49</th>\n",
       "      <td>ABW</td>\n",
       "      <td>2019</td>\n",
       "      <td>1404.705123</td>\n",
       "    </tr>\n",
       "    <tr>\n",
       "      <th>50</th>\n",
       "      <td>ABW</td>\n",
       "      <td>2020</td>\n",
       "      <td>1166.018409</td>\n",
       "    </tr>\n",
       "    <tr>\n",
       "      <th>51</th>\n",
       "      <td>ABW</td>\n",
       "      <td>2021</td>\n",
       "      <td>1295.818804</td>\n",
       "    </tr>\n",
       "  </tbody>\n",
       "</table>\n",
       "</div>"
      ],
      "text/plain": [
       "   country  year          CO2\n",
       "0      ABW  1970    95.065424\n",
       "1      ABW  1971    94.503709\n",
       "2      ABW  1972   105.847814\n",
       "3      ABW  1973   109.863856\n",
       "4      ABW  1974    99.977179\n",
       "5      ABW  1975   114.650537\n",
       "6      ABW  1976   105.098610\n",
       "7      ABW  1977   113.485712\n",
       "8      ABW  1978   115.610136\n",
       "9      ABW  1979   109.361049\n",
       "10     ABW  1980   110.202655\n",
       "11     ABW  1981   111.935635\n",
       "12     ABW  1982   102.831097\n",
       "13     ABW  1983   104.994149\n",
       "14     ABW  1984   121.185689\n",
       "15     ABW  1985   118.871134\n",
       "16     ABW  1986   117.597586\n",
       "17     ABW  1987   120.998266\n",
       "18     ABW  1988   428.310988\n",
       "19     ABW  1989   522.596351\n",
       "20     ABW  1990   531.673589\n",
       "21     ABW  1991   626.169911\n",
       "22     ABW  1992   726.346411\n",
       "23     ABW  1993   697.671507\n",
       "24     ABW  1994   763.672436\n",
       "25     ABW  1995   820.730467\n",
       "26     ABW  1996   550.823430\n",
       "27     ABW  1997   838.036216\n",
       "28     ABW  1998   839.623484\n",
       "29     ABW  1999   886.536977\n",
       "30     ABW  2000   950.988094\n",
       "31     ABW  2001   977.166414\n",
       "32     ABW  2002   996.511790\n",
       "33     ABW  2003  1288.471086\n",
       "34     ABW  2004  1338.638889\n",
       "35     ABW  2005  1377.274130\n",
       "36     ABW  2006  1339.132001\n",
       "37     ABW  2007  1369.656688\n",
       "38     ABW  2008  1288.139642\n",
       "39     ABW  2009  1387.899058\n",
       "40     ABW  2010  1345.968976\n",
       "41     ABW  2011  1286.369279\n",
       "42     ABW  2012  1637.822831\n",
       "43     ABW  2013  1605.689731\n",
       "44     ABW  2014  1633.584420\n",
       "45     ABW  2015  1626.234050\n",
       "46     ABW  2016  1597.398255\n",
       "47     ABW  2017  1335.792882\n",
       "48     ABW  2018  1366.614574\n",
       "49     ABW  2019  1404.705123\n",
       "50     ABW  2020  1166.018409\n",
       "51     ABW  2021  1295.818804"
      ]
     },
     "execution_count": 17,
     "metadata": {},
     "output_type": "execute_result"
    }
   ],
   "source": [
    "df[df['country'] == 'ABW']"
   ]
  },
  {
   "cell_type": "code",
   "execution_count": 15,
   "metadata": {},
   "outputs": [
    {
     "data": {
      "text/plain": [
       "array(['ABW', 'AFG', 'AGO', 'AIA', 'AIR', 'ALB', 'ANT', 'ARE', 'ARG',\n",
       "       'ARM', 'ATG', 'AUS', 'AUT', 'AZE', 'BDI', 'BEL', 'BEN', 'BFA',\n",
       "       'BGD', 'BGR', 'BHR', 'BHS', 'BIH', 'BLR', 'BLZ', 'BMU', 'BOL',\n",
       "       'BRA', 'BRB', 'BRN', 'BTN', 'BWA', 'CAF', 'CAN', 'CHE', 'CHL',\n",
       "       'CHN', 'CIV', 'CMR', 'COD', 'COG', 'COK', 'COL', 'COM', 'CPV',\n",
       "       'CRI', 'CUB', 'CYM', 'CYP', 'CZE', 'DEU', 'DJI', 'DMA', 'DNK',\n",
       "       'DOM', 'DZA', 'ECU', 'EGY', 'ERI', 'ESH', 'ESP', 'EST', 'ETH',\n",
       "       'FIN', 'FJI', 'FLK', 'FRA', 'FRO', 'GAB', 'GBR', 'GEO', 'GHA',\n",
       "       'GIB', 'GIN', 'GLP', 'GMB', 'GNB', 'GNQ', 'GRC', 'GRD', 'GRL',\n",
       "       'GTM', 'GUF', 'GUY', 'HKG', 'HND', 'HRV', 'HTI', 'HUN', 'IDN',\n",
       "       'IND', 'IRL', 'IRN', 'IRQ', 'ISL', 'ISR', 'ITA', 'JAM', 'JOR',\n",
       "       'JPN', 'KAZ', 'KEN', 'KGZ', 'KHM', 'KIR', 'KNA', 'KOR', 'KWT',\n",
       "       'LAO', 'LBN', 'LBR', 'LBY', 'LCA', 'LKA', 'LSO', 'LTU', 'LUX',\n",
       "       'LVA', 'MAC', 'MAR', 'MDA', 'MDG', 'MDV', 'MEX', 'MKD', 'MLI',\n",
       "       'MLT', 'MMR', 'MNG', 'MOZ', 'MRT', 'MTQ', 'MUS', 'MWI', 'MYS',\n",
       "       'NAM', 'NCL', 'NER', 'NGA', 'NIC', 'NLD', 'NOR', 'NPL', 'NZL',\n",
       "       'OMN', 'PAK', 'PAN', 'PER', 'PHL', 'PLW', 'PNG', 'POL', 'PRI',\n",
       "       'PRK', 'PRT', 'PRY', 'PYF', 'QAT', 'REU', 'ROU', 'RUS', 'RWA',\n",
       "       'SAU', 'SCG', 'SDN', 'SEA', 'SEN', 'SGP', 'SHN', 'SLB', 'SLE',\n",
       "       'SLV', 'SOM', 'SPM', 'STP', 'SUR', 'SVK', 'SVN', 'SWE', 'SWZ',\n",
       "       'SYC', 'SYR', 'TCA', 'TCD', 'TGO', 'THA', 'TJK', 'TKM', 'TLS',\n",
       "       'TON', 'TTO', 'TUN', 'TUR', 'TWN', 'TZA', 'UGA', 'UKR', 'URY',\n",
       "       'USA', 'UZB', 'VCT', 'VEN', 'VGB', 'VNM', 'VUT', 'WSM', 'YEM',\n",
       "       'ZAF', 'ZMB', 'ZWE'], dtype=object)"
      ]
     },
     "execution_count": 15,
     "metadata": {},
     "output_type": "execute_result"
    }
   ],
   "source": [
    "df[\"country\"].unique()"
   ]
  },
  {
   "cell_type": "code",
   "execution_count": 13,
   "metadata": {},
   "outputs": [
    {
     "data": {
      "text/html": [
       "<div>\n",
       "<style scoped>\n",
       "    .dataframe tbody tr th:only-of-type {\n",
       "        vertical-align: middle;\n",
       "    }\n",
       "\n",
       "    .dataframe tbody tr th {\n",
       "        vertical-align: top;\n",
       "    }\n",
       "\n",
       "    .dataframe thead th {\n",
       "        text-align: right;\n",
       "    }\n",
       "</style>\n",
       "<table border=\"1\" class=\"dataframe\">\n",
       "  <thead>\n",
       "    <tr style=\"text-align: right;\">\n",
       "      <th></th>\n",
       "      <th>IPCC_annex</th>\n",
       "      <th>C_group_IM24_sh</th>\n",
       "      <th>Country_code_A3</th>\n",
       "      <th>Name</th>\n",
       "      <th>Substance</th>\n",
       "      <th>Y_1970</th>\n",
       "      <th>Y_1971</th>\n",
       "      <th>Y_1972</th>\n",
       "      <th>Y_1973</th>\n",
       "      <th>Y_1974</th>\n",
       "      <th>...</th>\n",
       "      <th>Y_2012</th>\n",
       "      <th>Y_2013</th>\n",
       "      <th>Y_2014</th>\n",
       "      <th>Y_2015</th>\n",
       "      <th>Y_2016</th>\n",
       "      <th>Y_2017</th>\n",
       "      <th>Y_2018</th>\n",
       "      <th>Y_2019</th>\n",
       "      <th>Y_2020</th>\n",
       "      <th>Y_2021</th>\n",
       "    </tr>\n",
       "  </thead>\n",
       "  <tbody>\n",
       "    <tr>\n",
       "      <th>0</th>\n",
       "      <td>Non-Annex_I</td>\n",
       "      <td>Rest Central America</td>\n",
       "      <td>ABW</td>\n",
       "      <td>Aruba</td>\n",
       "      <td>CO2</td>\n",
       "      <td>95.065424</td>\n",
       "      <td>94.503709</td>\n",
       "      <td>105.847814</td>\n",
       "      <td>109.863856</td>\n",
       "      <td>99.977179</td>\n",
       "      <td>...</td>\n",
       "      <td>1637.822831</td>\n",
       "      <td>1605.689731</td>\n",
       "      <td>1633.584420</td>\n",
       "      <td>1626.234050</td>\n",
       "      <td>1597.398255</td>\n",
       "      <td>1335.792882</td>\n",
       "      <td>1366.614574</td>\n",
       "      <td>1404.705123</td>\n",
       "      <td>1166.018409</td>\n",
       "      <td>1295.818804</td>\n",
       "    </tr>\n",
       "    <tr>\n",
       "      <th>1</th>\n",
       "      <td>Non-Annex_I</td>\n",
       "      <td>India +</td>\n",
       "      <td>AFG</td>\n",
       "      <td>Afghanistan</td>\n",
       "      <td>CO2</td>\n",
       "      <td>3343.054709</td>\n",
       "      <td>3318.411036</td>\n",
       "      <td>3545.865063</td>\n",
       "      <td>3592.563616</td>\n",
       "      <td>4075.638761</td>\n",
       "      <td>...</td>\n",
       "      <td>14462.288815</td>\n",
       "      <td>12796.268484</td>\n",
       "      <td>12478.108782</td>\n",
       "      <td>12551.087669</td>\n",
       "      <td>11760.799383</td>\n",
       "      <td>12117.693742</td>\n",
       "      <td>12736.811832</td>\n",
       "      <td>12215.717086</td>\n",
       "      <td>12525.011330</td>\n",
       "      <td>12553.576369</td>\n",
       "    </tr>\n",
       "    <tr>\n",
       "      <th>2</th>\n",
       "      <td>Non-Annex_I</td>\n",
       "      <td>Southern_Africa</td>\n",
       "      <td>AGO</td>\n",
       "      <td>Angola</td>\n",
       "      <td>CO2</td>\n",
       "      <td>20393.274068</td>\n",
       "      <td>19959.926969</td>\n",
       "      <td>21860.851718</td>\n",
       "      <td>22960.875811</td>\n",
       "      <td>23436.330631</td>\n",
       "      <td>...</td>\n",
       "      <td>45747.276981</td>\n",
       "      <td>51282.174272</td>\n",
       "      <td>53677.191990</td>\n",
       "      <td>56211.792887</td>\n",
       "      <td>55507.493078</td>\n",
       "      <td>51285.300069</td>\n",
       "      <td>49702.305850</td>\n",
       "      <td>51343.735537</td>\n",
       "      <td>49153.126915</td>\n",
       "      <td>50275.123467</td>\n",
       "    </tr>\n",
       "    <tr>\n",
       "      <th>3</th>\n",
       "      <td>Non-Annex_I</td>\n",
       "      <td>Rest Central America</td>\n",
       "      <td>AIA</td>\n",
       "      <td>Anguilla</td>\n",
       "      <td>CO2</td>\n",
       "      <td>2.168292</td>\n",
       "      <td>2.168325</td>\n",
       "      <td>2.263753</td>\n",
       "      <td>2.108963</td>\n",
       "      <td>2.350261</td>\n",
       "      <td>...</td>\n",
       "      <td>26.023228</td>\n",
       "      <td>27.940512</td>\n",
       "      <td>27.896061</td>\n",
       "      <td>28.005426</td>\n",
       "      <td>28.339881</td>\n",
       "      <td>29.062445</td>\n",
       "      <td>28.222994</td>\n",
       "      <td>27.579993</td>\n",
       "      <td>22.779488</td>\n",
       "      <td>25.408720</td>\n",
       "    </tr>\n",
       "    <tr>\n",
       "      <th>4</th>\n",
       "      <td>Int. Aviation</td>\n",
       "      <td>Int. Aviation</td>\n",
       "      <td>AIR</td>\n",
       "      <td>Int. Aviation</td>\n",
       "      <td>CO2</td>\n",
       "      <td>169300.996554</td>\n",
       "      <td>169300.996554</td>\n",
       "      <td>179147.487130</td>\n",
       "      <td>186892.096441</td>\n",
       "      <td>179793.330898</td>\n",
       "      <td>...</td>\n",
       "      <td>472721.118697</td>\n",
       "      <td>480909.126246</td>\n",
       "      <td>496627.696509</td>\n",
       "      <td>524654.034526</td>\n",
       "      <td>548207.777357</td>\n",
       "      <td>582230.489693</td>\n",
       "      <td>609630.481638</td>\n",
       "      <td>617763.229264</td>\n",
       "      <td>338144.083387</td>\n",
       "      <td>390166.250062</td>\n",
       "    </tr>\n",
       "  </tbody>\n",
       "</table>\n",
       "<p>5 rows × 57 columns</p>\n",
       "</div>"
      ],
      "text/plain": [
       "      IPCC_annex       C_group_IM24_sh Country_code_A3           Name  \\\n",
       "0    Non-Annex_I  Rest Central America             ABW          Aruba   \n",
       "1    Non-Annex_I               India +             AFG    Afghanistan   \n",
       "2    Non-Annex_I       Southern_Africa             AGO         Angola   \n",
       "3    Non-Annex_I  Rest Central America             AIA       Anguilla   \n",
       "4  Int. Aviation         Int. Aviation             AIR  Int. Aviation   \n",
       "\n",
       "  Substance         Y_1970         Y_1971         Y_1972         Y_1973  \\\n",
       "0       CO2      95.065424      94.503709     105.847814     109.863856   \n",
       "1       CO2    3343.054709    3318.411036    3545.865063    3592.563616   \n",
       "2       CO2   20393.274068   19959.926969   21860.851718   22960.875811   \n",
       "3       CO2       2.168292       2.168325       2.263753       2.108963   \n",
       "4       CO2  169300.996554  169300.996554  179147.487130  186892.096441   \n",
       "\n",
       "          Y_1974  ...         Y_2012         Y_2013         Y_2014  \\\n",
       "0      99.977179  ...    1637.822831    1605.689731    1633.584420   \n",
       "1    4075.638761  ...   14462.288815   12796.268484   12478.108782   \n",
       "2   23436.330631  ...   45747.276981   51282.174272   53677.191990   \n",
       "3       2.350261  ...      26.023228      27.940512      27.896061   \n",
       "4  179793.330898  ...  472721.118697  480909.126246  496627.696509   \n",
       "\n",
       "          Y_2015         Y_2016         Y_2017         Y_2018         Y_2019  \\\n",
       "0    1626.234050    1597.398255    1335.792882    1366.614574    1404.705123   \n",
       "1   12551.087669   11760.799383   12117.693742   12736.811832   12215.717086   \n",
       "2   56211.792887   55507.493078   51285.300069   49702.305850   51343.735537   \n",
       "3      28.005426      28.339881      29.062445      28.222994      27.579993   \n",
       "4  524654.034526  548207.777357  582230.489693  609630.481638  617763.229264   \n",
       "\n",
       "          Y_2020         Y_2021  \n",
       "0    1166.018409    1295.818804  \n",
       "1   12525.011330   12553.576369  \n",
       "2   49153.126915   50275.123467  \n",
       "3      22.779488      25.408720  \n",
       "4  338144.083387  390166.250062  \n",
       "\n",
       "[5 rows x 57 columns]"
      ]
     },
     "execution_count": 13,
     "metadata": {},
     "output_type": "execute_result"
    }
   ],
   "source": [
    "df_region.head()\n"
   ]
  },
  {
   "cell_type": "code",
   "execution_count": null,
   "metadata": {},
   "outputs": [],
   "source": []
  }
 ],
 "metadata": {
  "kernelspec": {
   "display_name": "CO2_Emission_Indicator",
   "language": "python",
   "name": "python3"
  },
  "language_info": {
   "codemirror_mode": {
    "name": "ipython",
    "version": 3
   },
   "file_extension": ".py",
   "mimetype": "text/x-python",
   "name": "python",
   "nbconvert_exporter": "python",
   "pygments_lexer": "ipython3",
   "version": "3.10.6"
  },
  "orig_nbformat": 4
 },
 "nbformat": 4,
 "nbformat_minor": 2
}
